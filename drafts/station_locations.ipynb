{
 "nbformat": 4,
 "nbformat_minor": 2,
 "metadata": {
  "language_info": {
   "name": "python",
   "codemirror_mode": {
    "name": "ipython",
    "version": 3
   },
   "version": "3.7.2-final"
  },
  "orig_nbformat": 2,
  "file_extension": ".py",
  "mimetype": "text/x-python",
  "name": "python",
  "npconvert_exporter": "python",
  "pygments_lexer": "ipython3",
  "version": 3,
  "kernelspec": {
   "name": "python37264bitd7afea03727a45fea46fb3907f3e48bf",
   "display_name": "Python 3.7.2 64-bit"
  }
 },
 "cells": [
  {
   "cell_type": "markdown",
   "metadata": {},
   "source": [
    "# Location Getter\n",
    "Searches through and parses all longitude and latitude data for each unique station on NOAA's site. The dataset here will be stored, and used to programatically locate the stations closest to the co2 measuring fascilities, where co2 data was gathered."
   ]
  },
  {
   "cell_type": "code",
   "execution_count": 13,
   "metadata": {},
   "outputs": [],
   "source": [
    "import pandas as pd\n",
    "import numpy as np\n",
    "import matplotlib.pyplot as plt\n",
    "import seaborn as sns\n",
    "import ds_useful as ds\n",
    "import os"
   ]
  },
  {
   "cell_type": "code",
   "execution_count": 18,
   "metadata": {},
   "outputs": [],
   "source": [
    "import requests\n",
    "from bs4 import BeautifulSoup\n",
    "from contextlib import closing\n",
    "\n",
    "url = 'https://www.ncei.noaa.gov/data/global-summary-of-the-day/access/2016/'\n",
    "\n",
    "with closing(requests.get(url)) as response:\n",
    "    if response.status_code == 200:\n",
    "        html = BeautifulSoup(response.text)\n",
    "\n",
    "        tbody = html.select_one('table')\n",
    "        a_links = tbody.select('a')\n",
    "        csvs = []\n",
    "        for a_link in a_links:\n",
    "            if '.csv' in a_link.text:\n",
    "                csvs.append(a_link.text)\n",
    "    else: print('woops')\n",
    "\n",
    "locations = pd.DataFrame(columns=['STATION', 'LATITUDE','LONGITUDE'])\n",
    "for i, csv in enumerate(csvs):\n",
    "    try:\n",
    "        station = pd.read_csv('{}{}'.format(url, csv), usecols=['LATITUDE','LONGITUDE']).iloc[0]\n",
    "        station['STATION'] = csv\n",
    "        locations = locations.append(station)\n",
    "    except:\n",
    "        continue"
   ]
  },
  {
   "cell_type": "code",
   "execution_count": 20,
   "metadata": {},
   "outputs": [],
   "source": [
    "locations.to_csv('station_locations.csv')"
   ]
  },
  {
   "cell_type": "code",
   "execution_count": null,
   "metadata": {},
   "outputs": [],
   "source": []
  }
 ]
}