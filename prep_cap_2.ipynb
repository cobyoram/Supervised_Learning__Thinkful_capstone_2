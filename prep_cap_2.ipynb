{
 "nbformat": 4,
 "nbformat_minor": 2,
 "metadata": {
  "language_info": {
   "name": "python",
   "codemirror_mode": {
    "name": "ipython",
    "version": 3
   },
   "version": "3.7.2-final"
  },
  "orig_nbformat": 2,
  "file_extension": ".py",
  "mimetype": "text/x-python",
  "name": "python",
  "npconvert_exporter": "python",
  "pygments_lexer": "ipython3",
  "version": 3,
  "kernelspec": {
   "name": "python37264bitd7afea03727a45fea46fb3907f3e48bf",
   "display_name": "Python 3.7.2 64-bit"
  }
 },
 "cells": [
  {
   "cell_type": "markdown",
   "metadata": {},
   "source": [
    "# Thinkful Capstone 2: Supervised Learning\n",
    "## Google Analytics Customer Propensity"
   ]
  },
  {
   "cell_type": "code",
   "execution_count": 5,
   "metadata": {},
   "outputs": [],
   "source": [
    "import pandas as pd\n",
    "import numpy as np\n",
    "import matplotlib.pyplot as plt\n",
    "import seaborn as sns\n",
    "import ds_useful as ds"
   ]
  },
  {
   "cell_type": "markdown",
   "metadata": {},
   "source": [
    "[My Useful Data Science Functions](https://github.com/cobyoram/python-for-data-scientists/blob/master/ds_useful.py)"
   ]
  },
  {
   "cell_type": "code",
   "execution_count": 15,
   "metadata": {},
   "outputs": [
    {
     "name": "stdout",
     "output_type": "stream",
     "text": "(12410, 18)\n"
    },
    {
     "data": {
      "text/html": "<div>\n<style scoped>\n    .dataframe tbody tr th:only-of-type {\n        vertical-align: middle;\n    }\n\n    .dataframe tbody tr th {\n        vertical-align: top;\n    }\n\n    .dataframe thead th {\n        text-align: right;\n    }\n</style>\n<table border=\"1\" class=\"dataframe\">\n  <thead>\n    <tr style=\"text-align: right;\">\n      <th></th>\n      <th>fullVisitorId</th>\n      <th>NumberOfTransactions</th>\n      <th>OrderedAmount</th>\n      <th>FrequencyRowNumber</th>\n      <th>MonetoryRowNumber</th>\n      <th>LastVisitedDays</th>\n      <th>RecencyScore</th>\n      <th>FrequecyScore</th>\n      <th>MonetoryScore</th>\n      <th>RFMScore</th>\n      <th>pageviews</th>\n      <th>sessionQualityDim</th>\n      <th>referralPath</th>\n      <th>medium</th>\n      <th>browser</th>\n      <th>operatingSystem</th>\n      <th>isMobile</th>\n      <th>continent</th>\n    </tr>\n  </thead>\n  <tbody>\n    <tr>\n      <th>0</th>\n      <td>199756139590139879</td>\n      <td>3</td>\n      <td>299550000</td>\n      <td>1</td>\n      <td>14</td>\n      <td>70</td>\n      <td>4</td>\n      <td>5</td>\n      <td>4</td>\n      <td>13</td>\n      <td>75.0</td>\n      <td>NaN</td>\n      <td>NaN</td>\n      <td>(none)</td>\n      <td>Chrome</td>\n      <td>Chrome OS</td>\n      <td>False</td>\n      <td>Americas</td>\n    </tr>\n    <tr>\n      <th>1</th>\n      <td>361534245405505016</td>\n      <td>1</td>\n      <td>139650000</td>\n      <td>3</td>\n      <td>30</td>\n      <td>60</td>\n      <td>4</td>\n      <td>5</td>\n      <td>4</td>\n      <td>13</td>\n      <td>12.0</td>\n      <td>NaN</td>\n      <td>NaN</td>\n      <td>(none)</td>\n      <td>Chrome</td>\n      <td>Macintosh</td>\n      <td>False</td>\n      <td>Asia</td>\n    </tr>\n    <tr>\n      <th>2</th>\n      <td>9006674589877323297</td>\n      <td>1</td>\n      <td>99990000</td>\n      <td>5</td>\n      <td>36</td>\n      <td>60</td>\n      <td>4</td>\n      <td>5</td>\n      <td>4</td>\n      <td>13</td>\n      <td>17.0</td>\n      <td>NaN</td>\n      <td>NaN</td>\n      <td>(none)</td>\n      <td>Chrome</td>\n      <td>Linux</td>\n      <td>False</td>\n      <td>Americas</td>\n    </tr>\n    <tr>\n      <th>3</th>\n      <td>1639589047263376521</td>\n      <td>1</td>\n      <td>59990000</td>\n      <td>6</td>\n      <td>49</td>\n      <td>60</td>\n      <td>4</td>\n      <td>5</td>\n      <td>4</td>\n      <td>13</td>\n      <td>19.0</td>\n      <td>NaN</td>\n      <td>/</td>\n      <td>(none)</td>\n      <td>Chrome</td>\n      <td>Macintosh</td>\n      <td>False</td>\n      <td>Americas</td>\n    </tr>\n    <tr>\n      <th>4</th>\n      <td>6914629838067650341</td>\n      <td>1</td>\n      <td>55990000</td>\n      <td>9</td>\n      <td>57</td>\n      <td>60</td>\n      <td>4</td>\n      <td>5</td>\n      <td>4</td>\n      <td>13</td>\n      <td>25.0</td>\n      <td>NaN</td>\n      <td>NaN</td>\n      <td>(none)</td>\n      <td>Chrome</td>\n      <td>Macintosh</td>\n      <td>False</td>\n      <td>Americas</td>\n    </tr>\n  </tbody>\n</table>\n</div>",
      "text/plain": "         fullVisitorId  NumberOfTransactions  OrderedAmount  \\\n0   199756139590139879                     3      299550000   \n1   361534245405505016                     1      139650000   \n2  9006674589877323297                     1       99990000   \n3  1639589047263376521                     1       59990000   \n4  6914629838067650341                     1       55990000   \n\n   FrequencyRowNumber  MonetoryRowNumber  LastVisitedDays  RecencyScore  \\\n0                   1                 14               70             4   \n1                   3                 30               60             4   \n2                   5                 36               60             4   \n3                   6                 49               60             4   \n4                   9                 57               60             4   \n\n   FrequecyScore  MonetoryScore  RFMScore  pageviews  sessionQualityDim  \\\n0              5              4        13       75.0                NaN   \n1              5              4        13       12.0                NaN   \n2              5              4        13       17.0                NaN   \n3              5              4        13       19.0                NaN   \n4              5              4        13       25.0                NaN   \n\n  referralPath  medium browser operatingSystem  isMobile continent  \n0          NaN  (none)  Chrome       Chrome OS     False  Americas  \n1          NaN  (none)  Chrome       Macintosh     False      Asia  \n2          NaN  (none)  Chrome           Linux     False  Americas  \n3            /  (none)  Chrome       Macintosh     False  Americas  \n4          NaN  (none)  Chrome       Macintosh     False  Americas  "
     },
     "execution_count": 15,
     "metadata": {},
     "output_type": "execute_result"
    }
   ],
   "source": [
    "raw_goog = pd.read_csv('../google-analytics/Google Analytics.csv')\n",
    "print(raw_goog.shape)\n",
    "raw_goog.head()"
   ]
  },
  {
   "cell_type": "code",
   "execution_count": 9,
   "metadata": {},
   "outputs": [
    {
     "data": {
      "text/plain": "sessionQualityDim       100.000000\nreferralPath             72.135375\npageviews                 0.008058\ncontinent                 0.000000\nRecencyScore              0.000000\nNumberOfTransactions      0.000000\nOrderedAmount             0.000000\nFrequencyRowNumber        0.000000\nMonetoryRowNumber         0.000000\nLastVisitedDays           0.000000\nMonetoryScore             0.000000\nFrequecyScore             0.000000\nisMobile                  0.000000\nRFMScore                  0.000000\nmedium                    0.000000\nbrowser                   0.000000\noperatingSystem           0.000000\nfullVisitorId             0.000000\ndtype: float64"
     },
     "execution_count": 9,
     "metadata": {},
     "output_type": "execute_result"
    }
   ],
   "source": [
    "ds.missingness_summary(raw_goog)"
   ]
  },
  {
   "cell_type": "code",
   "execution_count": 11,
   "metadata": {},
   "outputs": [
    {
     "data": {
      "text/plain": "array([nan, '/', '/mail/u/0/', '/yt/about/',\n       '/od/Things-To-Do-in-Silicon-Valley/fl/How-To-Visit-the-Googleplex-the-Google-Head-Office-in-Mountain-View.htm',\n       '/forum/m/', '/forum/', '/analytics/web/',\n       '/intl/ALL/permissions/using-the-logo.html',\n       '/permissions/using-the-logo.html', '/mail/ca/u/0/',\n       '/YKEI_mrn/items/c10b14f9a69ff71b1b7a', '/sticker',\n       '/analytics/web/inpage_launch',\n       '/intl/th/permissions/using-the-logo.html', '/url',\n       '/google-merchandise-store', '/search/GGweb.jhtml',\n       '/2015/03/11/google-merch-store-new-url/',\n       '/intl/es/permissions/using-the-logo.html', '/yt/about/th/',\n       '/yt/about/tr/', '/yt/about/ja/', '/yt/about/ru/', '/yt/about/hi/',\n       '/l.php', '/yt/about/zh-CN/', '/yt/about/es-419/', '/yt/about/lt/',\n       '/yt/about/fr/', '/yt/about/ko/', '/yt/about/cs/', '/yt/about/ar/',\n       '/yt/about/it/', '/yt/about/sr/', '/yt/about/en-GB/',\n       '/yt/about/vi/', '/yt/about/zh-TW/', '/yt/about/sv/',\n       '/yt/about/iw/', '/yt/about/pl/', '/yt/about/hu/', '/yt/about/ms/',\n       '/yt/about/pt-BR/', '/yt/about/de/', '/yt/about/es/',\n       '/How-can-one-get-a-Google-T-shirt-in-India', '/yt/about/bg/',\n       '/yt/about/tr/index.html', '/yt/about/lv/', '/yt/about/gu/',\n       '/yt/about/en-GB/index.html', '/yt/about/nl/', '/yt/about/el/',\n       '/yt/about/pt-PT/', '/yt/about/uk/', '/yt/about/ro/',\n       '/r/golang/comments/4spnk9/where_to_buy_the_golang_gopher_plush/',\n       '/U1IP6plptr', '/yt/about/id/',\n       '/corp/google.com/study/incentives/incentives-requirements',\n       '/getpluginfile/photo_quality/index.html',\n       '/matttproud/gochecklist/blob/master/README.md',\n       '/hangouts/_/g-retail.com/kbanta',\n       '/intl/en/permissions/using-the-logo.html', '/fast-cgi/tsc',\n       '/mail/mu/mp/933/',\n       '/a/google.com/google-merchandise-store/on-site-store',\n       '/safeframe/1-0-6/html/container.html', '/gopher',\n       '/a/google.com/googletopia/discounts-deals-and-free-stuff/alphabet-google-discounts',\n       '/mail/mu/mp/426/', '/hangouts/_/hillcompanyinc.com/google-cloud',\n       '/intl/ja/permissions/using-the-logo.html',\n       '/intl/de/permissions/using-the-logo.html',\n       '/a/google.com/google-merchandise-store/on-site-store/mountain-view-store',\n       '/ads/richmedia/studio/pv2/47518400/20170221085623134/index.html',\n       '/yt/about/de/index.html', '/yt/about/fa/', '/yt/about/fi/',\n       '/yt/about/fil/', '/yt/about/kn/', '/yt/about/sv/index.html',\n       '/yt/about/no/', '/yt/about/pt-PT/index.html',\n       '/yt/about/kn/index.html', '/yt/about/ru/index.html',\n       '/yt/about/fa/index.html', '/yt/about/el/index.html',\n       '/a/google.com/forum/', '/yt/about/ta/index.html',\n       '/yt/about/ar/index.html', '/yt/about/index.html', '/yt/about/et/',\n       '/Where-can-I-buy-a-stuffed-Go-language-gopher-mascot-online',\n       '/r/golang/comments/4jlqzs/purple_gophers_on_sale_595_each/',\n       '/r/golang/comments/2u2n8q/gopher_soft_toy/', '/watch',\n       '/document/d/1X1A4sKXMZSKLr3OByBqtewvc6Y3lIEqPfWtBXv3u5Wo/edit',\n       '/pagead/ads', '/How-do-I-get-a-Google-I-O-t-shirt',\n       '/blog/2016/08/03/google-analytics-demo-account/',\n       '/ads/richmedia/studio/pv2/47540308/20170228152609756/index.html',\n       '/ads/richmedia/studio/pv2/47540409/20170301113940661/index.html',\n       '/ads/richmedia/studio/pv2/47540409/20170301113924991/index.html',\n       '/intl/es-419/permissions/using-the-logo.html', '/web',\n       '/presentation/d/1kGcCjdaigfoo5CMJ-gcBnf4_zdPfCBSk_iabtMZPN6s/pub',\n       '/yt/about/hr/', '/yt/about/pt-BR/index.html',\n       '/yt/about/ja/index.html', '/yt/about/ta/', '/yt/about/sk/',\n       '/yt/about/bn/', '/yt/about/cs/index.html', '/dfa/trafficking/',\n       '/a/google.com/forum/m/',\n       '/ads/richmedia/studio/pv2/47542710/20170301131603557/index.html',\n       '/webapps/blackboard/content/contentWrapperNoFrame.jsp',\n       '/yt/about/da/', '/yt/about/fr-CA/',\n       '/ads/richmedia/studio/pv2/47540503/20170228160422287/index.html',\n       '/feedback/2017/1/about/cucchiaro/by/cucchiaro/SELF',\n       '/Client.html', '/mail/', '/cr', '/mail/mu/mp/858/',\n       '/search/GGmain.jhtml', '/google-analytics-demo-account/',\n       '/optimize/home/', '/intl/fr/permissions/using-the-logo.html',\n       '/yt/about/pl/index.html', '/yt/about/es-419/index.html',\n       '/yt/about/zh-HK/', '/3oIBwdLr5K',\n       '/corp/google.com/study/incentives/working-with-perks',\n       '/yt/about/th/index.html',\n       '/od/Things-To-Do-in-Silicon-Valley/tp/Tech-Headquarters-You-Can-Visit-in-Silicon-Valley.htm',\n       '/yt/about/fr-CA/index.html', '/mail/u/1/', '/yt/about/te/',\n       '/mail/mu/mp/992/', '/mod/forum/discuss.php',\n       '/matttproud/gochecklist', '/Rewards/Products/Details.aspx',\n       '/mail/mu/mp/518/',\n       '/r/chromeos/comments/39boco/looking_for_chrome_sticker/',\n       '/deal/-ds-sign-up-for-google-merchandise-store-emails-for-special-coup-c179',\n       '/d/help',\n       '/a/google.com/nestlabs/home/announcements/nestproductteamishiring',\n       '/photos/google-dog-toy-21237.html',\n       '/a/google.com/nestlabs/employee-purchase-program',\n       '/yt/about/sl/', '/yt/about/fi/index.html',\n       '/yt/about/fr/index.html', '/yt/about/mr/'], dtype=object)"
     },
     "execution_count": 11,
     "metadata": {},
     "output_type": "execute_result"
    }
   ],
   "source": [
    "raw_goog['referralPath'].unique()"
   ]
  },
  {
   "cell_type": "code",
   "execution_count": 14,
   "metadata": {},
   "outputs": [
    {
     "data": {
      "text/plain": "(none)       5027\norganic      4156\nreferral     2763\naffiliate     222\ncpc           183\ncpm            59\nName: medium, dtype: int64"
     },
     "execution_count": 14,
     "metadata": {},
     "output_type": "execute_result"
    }
   ],
   "source": [
    "raw_goog['medium'].value_counts()"
   ]
  },
  {
   "cell_type": "code",
   "execution_count": 21,
   "metadata": {},
   "outputs": [
    {
     "data": {
      "text/plain": "NumberOfTransactions    99.057212\nOrderedAmount           99.057212\nisMobile                68.170830\ncontinent                0.000000\nFrequencyRowNumber       0.000000\nMonetoryRowNumber        0.000000\nLastVisitedDays          0.000000\nRecencyScore             0.000000\nFrequecyScore            0.000000\nMonetoryScore            0.000000\nRFMScore                 0.000000\npageviews                0.000000\nsessionQualityDim        0.000000\nreferralPath             0.000000\nmedium                   0.000000\nbrowser                  0.000000\noperatingSystem          0.000000\nfullVisitorId            0.000000\ndtype: float64"
     },
     "execution_count": 21,
     "metadata": {},
     "output_type": "execute_result"
    }
   ],
   "source": [
    "ds.repeats_summary(raw_goog)"
   ]
  },
  {
   "cell_type": "code",
   "execution_count": 30,
   "metadata": {},
   "outputs": [
    {
     "ename": "SyntaxError",
     "evalue": "invalid syntax (<ipython-input-30-98d31ac4ffc6>, line 4)",
     "output_type": "error",
     "traceback": [
      "\u001b[1;36m  File \u001b[1;32m\"<ipython-input-30-98d31ac4ffc6>\"\u001b[1;36m, line \u001b[1;32m4\u001b[0m\n\u001b[1;33m    missing_zero_repeat_ind.(raw_goog.loc[raw_goog[col] == raw_goog[col].mode().iloc[0]].index)\u001b[0m\n\u001b[1;37m                            ^\u001b[0m\n\u001b[1;31mSyntaxError\u001b[0m\u001b[1;31m:\u001b[0m invalid syntax\n"
     ]
    }
   ],
   "source": [
    "missing_zero_repeat_ind = pd.Series()\n",
    "\n",
    "for col in raw_goog.columns:\n",
    "    missing_zero_repeat_ind.(raw_goog.loc[raw_goog[col] == raw_goog[col].mode().iloc[0]].index)\n",
    "\n",
    "missing_zero_repeat_index\n"
   ]
  },
  {
   "cell_type": "code",
   "execution_count": null,
   "metadata": {},
   "outputs": [],
   "source": []
  }
 ]
}